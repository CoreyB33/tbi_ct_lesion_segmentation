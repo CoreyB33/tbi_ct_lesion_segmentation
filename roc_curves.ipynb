{
 "cells": [
  {
   "cell_type": "code",
   "execution_count": 4,
   "metadata": {},
   "outputs": [],
   "source": [
    "%matplotlib inline\n",
    "import numpy as np\n",
    "import nibabel as nib\n",
    "import pandas as pd\n",
    "import matplotlib.pyplot as plt\n",
    "import seaborn as sns\n",
    "import os\n",
    "from sklearn.utils import shuffle\n",
    "from sklearn import metrics\n",
    "from ggplot import *\n",
    "from time import time\n",
    "import operator\n",
    "from tqdm import *"
   ]
  },
  {
   "cell_type": "code",
   "execution_count": 26,
   "metadata": {},
   "outputs": [],
   "source": [
    "# loading datasets\n",
    "THIS_COMPUTER = open(\"host_id.cfg\").read().split()[0]\n",
    "\n",
    "if THIS_COMPUTER == \"vu\":\n",
    "    DATA_DIRS = [os.path.join(\"data\", \"test\")]\n",
    "    dataset_names = [\"VUMC Data\"]\n",
    "elif THIS_COMPUTER == \"nih\":\n",
    "    DATA_DIRS = [os.path.join(\"data\", \"test\"),\n",
    "                 os.path.join(\"data\", \"screening_umd\"),\n",
    "                 os.path.join(\"data\", \"screening_vcu\")]\n",
    "    dataset_names = [\"NIH Data\",\n",
    "                     \"Screening UMD\",\n",
    "                     \"Screening VCU\"]\n",
    "sns.set(rc={'figure.figsize':(10, 7.5)})"
   ]
  },
  {
   "cell_type": "code",
   "execution_count": 28,
   "metadata": {
    "collapsed": true
   },
   "outputs": [],
   "source": [
    "metrics.roc_curve?"
   ]
  },
  {
   "cell_type": "code",
   "execution_count": null,
   "metadata": {
    "scrolled": false
   },
   "outputs": [
    {
     "name": "stderr",
     "output_type": "stream",
     "text": [
      "\r",
      "  0%|          | 0/3 [00:00<?, ?it/s]"
     ]
    },
    {
     "name": "stdout",
     "output_type": "stream",
     "text": [
      "['msl_half_2018-11-20_16:51:41_val_loss_-0.9882_vu_test', 'vu_ssl_2018-11-22_03:49:55_epoch_0106_val_dice_coef_0.9907_vu_test', 'msl_other_half_2018-11-22_03:06:22_val_loss_-0.9928_vu_test', 'nih_ssl_2018-11-22_03:50:11_epoch_0197_val_dice_coef_0.9898_vu_test', 'msl_full_2018-11-20_04:45:18_val_loss_-0.9867_vu_test']\n"
     ]
    },
    {
     "name": "stderr",
     "output_type": "stream",
     "text": [
      "100%|██████████| 3/3 [00:04<00:00,  1.49s/it]\n"
     ]
    }
   ],
   "source": [
    "for DATA_DIR, dataset_name in zip(DATA_DIRS, dataset_names):\n",
    "    \n",
    "    PREPROCESSING_DIR = os.path.join(DATA_DIR, \"preprocessed\")\n",
    "    SEG_ROOT_DIR_BASE = os.path.join(DATA_DIR, \"segmentations\")\n",
    "    MODELS = [x for x in os.listdir(SEG_ROOT_DIR_BASE) if \"val\" in x]\n",
    "    print(MODELS)\n",
    "    \n",
    "    plt.title('Reciever Operating Characteristic Curves for ' + dataset_name)\n",
    "    scores_dict = {}\n",
    "    legend_items = []\n",
    "    \n",
    "    for i, model in enumerate(MODELS):\n",
    "        \n",
    "        if \"msl_full\" in model:\n",
    "            model_name = \"MSL Full\"\n",
    "        elif \"msl_half\" in model:\n",
    "            model_name= \"MSL 1/2 A\"\n",
    "        elif \"msl_other\" in model:\n",
    "            model_name = \"MSL 1/2 B\"\n",
    "        elif \"nih_ssl\" in model:\n",
    "            model_name = \"SSL NIH\"\n",
    "        elif \"vu_ssl\" in model:\n",
    "            model_name = \"SSL VUMC\"\n",
    "\n",
    "        SEG_ROOT_DIR = os.path.join(SEG_ROOT_DIR_BASE, model)\n",
    "\n",
    "\n",
    "        pred_filenames = [os.path.join(SEG_ROOT_DIR, x) for x in os.listdir(SEG_ROOT_DIR) \n",
    "                      if not os.path.isdir(os.path.join(SEG_ROOT_DIR, x))]\n",
    "        pred_filenames.sort()\n",
    "\n",
    "        gt_filenames = [os.path.join(PREPROCESSING_DIR, x) for x in os.listdir(PREPROCESSING_DIR) \n",
    "                          if not os.path.isdir(os.path.join(PREPROCESSING_DIR, x))]\n",
    "        gt_filenames = [x for x in gt_filenames if \"mask\" in x]\n",
    "        gt_filenames.sort()\n",
    "        \n",
    "        pred_filenames = pred_filenames[:3]\n",
    "        gt_filenames = gt_filenames[:3]\n",
    "        \n",
    "        x_gt_aggr = np.empty(shape=0)\n",
    "        x_pred_aggr = np.empty(shape=0)\n",
    "        x_thresh_aggr = np.empty(shape=0)\n",
    "\n",
    "        # aggregate all volumes into one big volume\n",
    "        for pred, gt in tqdm(zip(pred_filenames, gt_filenames), total=len(gt_filenames)):\n",
    "            x = nib.load(pred).get_data()\n",
    "            x_thresh = x.copy()\n",
    "            x_thresh[np.where(x_thresh >= 0.5)] = 1\n",
    "            x_thresh[np.where(x_thresh < 0.5)] = 0\n",
    "\n",
    "            x_gt = nib.load(gt).get_data()\n",
    "\n",
    "            x_gt_aggr = np.append(x_gt_aggr, x_gt.flatten())\n",
    "            x_pred_aggr = np.append(x_pred_aggr, x.flatten())\n",
    "            x_thresh_aggr = np.append(x_thresh_aggr, x_thresh.flatten())\n",
    "\n",
    "\n",
    "        fpr, tpr, _ = metrics.roc_curve(x_gt_aggr, x_pred_aggr)\n",
    "        auc = metrics.auc(fpr,tpr)\n",
    "        precision = metrics.precision_score(x_gt_aggr, x_thresh_aggr)\n",
    "        \n",
    "        scores_dict[model_name] = {\"auc\": auc,\n",
    "                                   \"precision\": precision}\n",
    "        \n",
    "        label = model_name + \" AUC = {:02f}\".format(auc)\n",
    "        line, = plt.plot(fpr, tpr, label=label)\n",
    "        \n",
    "        legend_items.append((model_name, line))\n",
    "\n",
    "\n",
    "        \n",
    "    # sort the legend\n",
    "    print(legend_items)\n",
    "    legend_items.sort()\n",
    "    print(legend_items)\n",
    "    plt.legend([x[1] for x in legend_items], [x[0] for x in legend_items])\n",
    "    \n",
    "    # plot the y=x line\n",
    "    plt.plot([0,1],[0,1], 'k--')\n",
    "    \n",
    "    # set the range and domain of graph to display the x=0 values\n",
    "    plt.xlim([-0.01,1])\n",
    "    plt.ylim([-0.01,1])\n",
    "    \n",
    "    plt.ylabel(\"True Positive Rate\")\n",
    "    plt.xlabel(\"False Positive Rate\")\n",
    "    plt.show()\n",
    "\n",
    "    print(scores_dict)\n"
   ]
  },
  {
   "cell_type": "code",
   "execution_count": null,
   "metadata": {
    "collapsed": true
   },
   "outputs": [],
   "source": []
  }
 ],
 "metadata": {
  "kernelspec": {
   "display_name": "Python 3",
   "language": "python",
   "name": "python3"
  },
  "language_info": {
   "codemirror_mode": {
    "name": "ipython",
    "version": 3
   },
   "file_extension": ".py",
   "mimetype": "text/x-python",
   "name": "python",
   "nbconvert_exporter": "python",
   "pygments_lexer": "ipython3",
   "version": "3.5.4"
  }
 },
 "nbformat": 4,
 "nbformat_minor": 2
}
