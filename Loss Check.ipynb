{
 "cells": [
  {
   "cell_type": "code",
   "execution_count": 5,
   "metadata": {},
   "outputs": [],
   "source": [
    "import numpy as np\n",
    "import os"
   ]
  },
  {
   "cell_type": "code",
   "execution_count": 46,
   "metadata": {
    "collapsed": true
   },
   "outputs": [],
   "source": [
    "def cdc(y_true, y_pred, smooth=1):\n",
    "    y_true_f = y_true.flatten()\n",
    "    y_pred_f = y_pred.flatten()\n",
    "    intersection = np.sum(y_true_f * y_pred_f)\n",
    "    \n",
    "    if intersection > 0:\n",
    "        c = intersection / np.sum(y_true_f * np.sign(y_pred_f))\n",
    "    else:\n",
    "        c = 1\n",
    "    \n",
    "    continuous_union = c * np.sum(y_true_f) + np.sum(y_pred_f)\n",
    "    \n",
    "    return (2. * intersection + smooth) / (continuous_union + smooth)\n",
    "\n",
    "def cdc_loss(y_true, y_pred):\n",
    "    return 1-cdc(y_true, y_pred)"
   ]
  },
  {
   "cell_type": "code",
   "execution_count": 79,
   "metadata": {
    "collapsed": true
   },
   "outputs": [],
   "source": [
    "def fpr(y_true, y_pred):\n",
    "    y_true_f = y_true.flatten()\n",
    "    y_pred_f = y_pred.flatten()\n",
    "    inverse_y_true_f = 1 - y_true_f\n",
    "    inverse_y_pred_f = 1 - y_pred_f\n",
    "    \n",
    "    tp = np.sum(y_true_f * y_pred_f)\n",
    "    fp = np.sum(y_pred_f) - tp\n",
    "    tn = np.sum(inverse_y_true_f * inverse_y_pred_f)\n",
    "    fn = np.sum(inverse_y_pred_f) - tn\n",
    "    \n",
    "    if fp + tn == 0:\n",
    "        smooth = 1\n",
    "    else:\n",
    "        smooth = 0\n",
    "\n",
    "    return (fp + smooth) / (fp + tn + smooth)"
   ]
  },
  {
   "cell_type": "code",
   "execution_count": 80,
   "metadata": {
    "collapsed": true
   },
   "outputs": [],
   "source": [
    "def display(func1, func2, *args):\n",
    "    print(\"CDC: {:.4f}\\nFPR: {:.4f}\\n\".format(func1(*args), func2(*args)))\n",
    "\n",
    "def weighted_sum(func1, func2, alpha, beta, *args):\n",
    "    print(\"Weighted sum: {:.4f}\".format(alpha * func1(*args) + beta * func2(*args)))"
   ]
  },
  {
   "cell_type": "code",
   "execution_count": 94,
   "metadata": {
    "collapsed": true
   },
   "outputs": [],
   "source": [
    "A = np.array([[0,0,0],\n",
    "             [1,0,0],\n",
    "             [0,1,0]])\n",
    "B = np.array([[0,0,0],\n",
    "             [1,0,1],\n",
    "             [1,0,1]])\n",
    "C = np.array([[0,0,0],\n",
    "             [0,0,0],\n",
    "             [0,0,0],])\n",
    "D = np.array([[1,1,1],\n",
    "             [1,1,1],\n",
    "             [1,1,1],])\n",
    "\n",
    "B_cont = np.array([[0.2,0.2,0.2],\n",
    "                 [0.8,0.2,0.2],\n",
    "                 [0.2,0.7,0.2]])\n",
    "B_cont_2 = np.array([[0.1,0.1,0.1],\n",
    "                 [0.8,0.1,0.1],\n",
    "                 [0.1,0.7,0.1]])\n",
    "B_cont_3 = np.array([[0.1,0.01,0.01],\n",
    "                 [0.9,0.1,0.1],\n",
    "                 [0.1,0.9,0.01]])"
   ]
  },
  {
   "cell_type": "code",
   "execution_count": 95,
   "metadata": {},
   "outputs": [
    {
     "name": "stdout",
     "output_type": "stream",
     "text": [
      "CDC: 0.5714\n",
      "FPR: 0.4286\n",
      "\n",
      "CDC: 0.0000\n",
      "FPR: 0.0000\n",
      "\n",
      "CDC: 0.9000\n",
      "FPR: 1.0000\n",
      "\n",
      "CDC: 0.9000\n",
      "FPR: 1.0000\n",
      "\n"
     ]
    }
   ],
   "source": [
    "display(cdc_loss, fpr, A, B)\n",
    "display(cdc_loss, fpr, A, A)\n",
    "display(cdc_loss, fpr, C, D)\n",
    "display(cdc_loss, fpr, D, C)"
   ]
  },
  {
   "cell_type": "code",
   "execution_count": 96,
   "metadata": {},
   "outputs": [
    {
     "name": "stdout",
     "output_type": "stream",
     "text": [
      "Weighted sum: 1.0000\n",
      "Weighted sum: 0.0000\n",
      "Weighted sum: 1.9000\n",
      "Weighted sum: 1.9000\n"
     ]
    }
   ],
   "source": [
    "weighted_sum(cdc_loss, fpr, 1, 1, A, B)\n",
    "weighted_sum(cdc_loss, fpr, 1, 1, A, A)\n",
    "weighted_sum(cdc_loss, fpr, 1, 1, C, D)\n",
    "weighted_sum(cdc_loss, fpr, 1, 1, D, C)"
   ]
  },
  {
   "cell_type": "code",
   "execution_count": 97,
   "metadata": {},
   "outputs": [
    {
     "name": "stdout",
     "output_type": "stream",
     "text": [
      "CDC: 0.2593\n",
      "FPR: 0.2000\n",
      "\n",
      "Weighted sum: 0.4593\n"
     ]
    }
   ],
   "source": [
    "display(cdc_loss, fpr, A, B_cont)\n",
    "weighted_sum(cdc_loss, fpr, 1, 1, A, B_cont)\n"
   ]
  },
  {
   "cell_type": "code",
   "execution_count": 98,
   "metadata": {},
   "outputs": [
    {
     "name": "stdout",
     "output_type": "stream",
     "text": [
      "CDC: 0.1489\n",
      "FPR: 0.1000\n",
      "\n",
      "Weighted sum: 0.2489\n"
     ]
    }
   ],
   "source": [
    "display(cdc_loss, fpr, A, B_cont_2)\n",
    "weighted_sum(cdc_loss, fpr, 1, 1, A, B_cont_2)"
   ]
  },
  {
   "cell_type": "code",
   "execution_count": 99,
   "metadata": {},
   "outputs": [
    {
     "name": "stdout",
     "output_type": "stream",
     "text": [
      "CDC: 0.0855\n",
      "FPR: 0.0614\n",
      "\n",
      "Weighted sum: 0.1469\n"
     ]
    }
   ],
   "source": [
    "display(cdc_loss, fpr, A, B_cont_3)\n",
    "weighted_sum(cdc_loss, fpr, 1, 1, A, B_cont_3)"
   ]
  },
  {
   "cell_type": "code",
   "execution_count": 100,
   "metadata": {},
   "outputs": [
    {
     "name": "stdout",
     "output_type": "stream",
     "text": [
      "Weighted sum: 0.1469\n",
      "Weighted sum: 0.6667\n"
     ]
    }
   ],
   "source": [
    "weighted_sum(cdc_loss, fpr, 1, 1, A, B_cont_3)\n",
    "weighted_sum(cdc_loss, fpr, 1, 1, A, C)"
   ]
  },
  {
   "cell_type": "code",
   "execution_count": 113,
   "metadata": {
    "collapsed": true
   },
   "outputs": [],
   "source": [
    "################ Larger, sparse examples ################\n",
    "\n",
    "A_sparse = np.zeros(shape=(255,255))\n",
    "for i in range(10):\n",
    "    A_sparse[i,i] = 1\n",
    "\n",
    "B_sparse = A_sparse.copy() * 0.8\n",
    "for i in range(20,30):\n",
    "    B_sparse[i,i] = 0.3\n",
    "C_sparse = np.zeros(shape=(255,255))\n",
    "D_sparse = np.ones(shape=(255,255))"
   ]
  },
  {
   "cell_type": "code",
   "execution_count": 115,
   "metadata": {},
   "outputs": [
    {
     "name": "stdout",
     "output_type": "stream",
     "text": [
      "Weighted sum: 0.1500\n",
      "Weighted sum: 0.9091\n",
      "Weighted sum: 1.9997\n"
     ]
    }
   ],
   "source": [
    "weighted_sum(cdc_loss, fpr, 1, 1, A_sparse, B_sparse)\n",
    "weighted_sum(cdc_loss, fpr, 1, 1, A_sparse, C_sparse)\n",
    "weighted_sum(cdc_loss, fpr, 1, 1, A_sparse, D_sparse)"
   ]
  },
  {
   "cell_type": "code",
   "execution_count": 116,
   "metadata": {
    "collapsed": true
   },
   "outputs": [],
   "source": []
  },
  {
   "cell_type": "code",
   "execution_count": 129,
   "metadata": {},
   "outputs": [
    {
     "data": {
      "image/png": "[encoded data removed]",
      "text/plain": [
       "<matplotlib.figure.Figure at 0x7f8bcaf987b8>"
      ]
     },
     "metadata": {},
     "output_type": "display_data"
    }
   ],
   "source": [
    "import matplotlib.pyplot as plt\n",
    "\n",
    "R = np.random.rand(255,255)\n",
    "\n",
    "hist, bin_edges = np.histogram(R, density=True)\n",
    "\n",
    "plt.hist(hist)\n",
    "plt.show()"
   ]
  },
  {
   "cell_type": "code",
   "execution_count": 132,
   "metadata": {
    "collapsed": true
   },
   "outputs": [],
   "source": [
    "n = 100\n",
    "a = [x for x in range(n)]\n",
    "from sklearn.utils import shuffle\n",
    "a = shuffle(a, random_state=0)"
   ]
  },
  {
   "cell_type": "code",
   "execution_count": 133,
   "metadata": {},
   "outputs": [
    {
     "data": {
      "text/plain": [
       "[26,\n",
       " 86,\n",
       " 2,\n",
       " 55,\n",
       " 75,\n",
       " 93,\n",
       " 16,\n",
       " 73,\n",
       " 54,\n",
       " 95,\n",
       " 53,\n",
       " 92,\n",
       " 78,\n",
       " 13,\n",
       " 7,\n",
       " 30,\n",
       " 22,\n",
       " 24,\n",
       " 33,\n",
       " 8,\n",
       " 43,\n",
       " 62,\n",
       " 3,\n",
       " 71,\n",
       " 45,\n",
       " 48,\n",
       " 6,\n",
       " 99,\n",
       " 82,\n",
       " 76,\n",
       " 60,\n",
       " 80,\n",
       " 90,\n",
       " 68,\n",
       " 51,\n",
       " 27,\n",
       " 18,\n",
       " 56,\n",
       " 63,\n",
       " 74,\n",
       " 1,\n",
       " 61,\n",
       " 42,\n",
       " 41,\n",
       " 4,\n",
       " 15,\n",
       " 17,\n",
       " 40,\n",
       " 38,\n",
       " 5,\n",
       " 91,\n",
       " 59,\n",
       " 0,\n",
       " 34,\n",
       " 28,\n",
       " 50,\n",
       " 11,\n",
       " 35,\n",
       " 23,\n",
       " 52,\n",
       " 10,\n",
       " 31,\n",
       " 66,\n",
       " 57,\n",
       " 79,\n",
       " 85,\n",
       " 32,\n",
       " 84,\n",
       " 14,\n",
       " 89,\n",
       " 19,\n",
       " 29,\n",
       " 49,\n",
       " 97,\n",
       " 98,\n",
       " 69,\n",
       " 20,\n",
       " 94,\n",
       " 72,\n",
       " 77,\n",
       " 25,\n",
       " 37,\n",
       " 81,\n",
       " 46,\n",
       " 39,\n",
       " 65,\n",
       " 58,\n",
       " 12,\n",
       " 88,\n",
       " 70,\n",
       " 87,\n",
       " 36,\n",
       " 21,\n",
       " 83,\n",
       " 9,\n",
       " 96,\n",
       " 67,\n",
       " 64,\n",
       " 47,\n",
       " 44]"
      ]
     },
     "execution_count": 133,
     "metadata": {},
     "output_type": "execute_result"
    }
   ],
   "source": [
    "a"
   ]
  },
  {
   "cell_type": "code",
   "execution_count": null,
   "metadata": {
    "collapsed": true
   },
   "outputs": [],
   "source": []
  }
 ],
 "metadata": {
  "kernelspec": {
   "display_name": "Python 3",
   "language": "python",
   "name": "python3"
  },
  "language_info": {
   "codemirror_mode": {
    "name": "ipython",
    "version": 3
   },
   "file_extension": ".py",
   "mimetype": "text/x-python",
   "name": "python",
   "nbconvert_exporter": "python",
   "pygments_lexer": "ipython3",
   "version": "3.5.4"
  }
 },
 "nbformat": 4,
 "nbformat_minor": 2
}
